{
 "cells": [
  {
   "cell_type": "code",
   "execution_count": 19,
   "id": "f5d3ed6d",
   "metadata": {},
   "outputs": [],
   "source": [
    "import tensorflow as tf\n",
    "from tensorflow import keras"
   ]
  },
  {
   "cell_type": "code",
   "execution_count": 32,
   "id": "97d56c1b",
   "metadata": {},
   "outputs": [],
   "source": [
    "from keras import layers, Sequential\n",
    "from keras.layers import Input, Conv2D , MaxPool2D, Dense , Flatten\n",
    "from keras.models import Model"
   ]
  },
  {
   "cell_type": "code",
   "execution_count": 33,
   "id": "52e8c21d",
   "metadata": {},
   "outputs": [],
   "source": [
    "def vgg(input_shape, n_classes):\n",
    "    input = Input(input_shape)\n",
    "    \n",
    "    x=Conv2D(64,3, padding='same', activation='relu')(input)\n",
    "    x=Conv2D(64,3, padding='same', activation='relu')(x)\n",
    "    x= MaxPool2D(2, strides=2,padding='same')(x)\n",
    "    \n",
    "    x=Conv2D(128,3, padding='same', activation='relu')(x)\n",
    "    x=Conv2D(128,3, padding='same', activation='relu')(x)\n",
    "    x= MaxPool2D(2, strides=2,padding='same')(x)\n",
    "    \n",
    "    x=Conv2D(256,3, padding='same', activation='relu')(x)\n",
    "    x=Conv2D(256,3, padding='same', activation='relu')(x)\n",
    "    x=Conv2D(256,3, padding='same', activation='relu')(x)\n",
    "    x= MaxPool2D(2, strides=2,padding='same')(x)\n",
    "    \n",
    "    x=Conv2D(512,3, padding='same', activation='relu')(x)\n",
    "    x=Conv2D(512,3, padding='same', activation='relu')(x)\n",
    "    x=Conv2D(512,3, padding='same', activation='relu')(x)\n",
    "    x= MaxPool2D(2, strides=2,padding='same')(x)\n",
    "    \n",
    "    x=Conv2D(512,3, padding='same', activation='relu')(x)\n",
    "    x=Conv2D(512,3, padding='same', activation='relu')(x)\n",
    "    x=Conv2D(512,3, padding='same', activation='relu')(x)\n",
    "    x= MaxPool2D(2, strides=2,padding='same')(x)\n",
    "    \n",
    "    x= Flatten()(x)\n",
    "    x=Dense(4096, activation='relu')(x)\n",
    "    x=Dense(4096, activation='relu')(x)\n",
    "    \n",
    "    output = Dense(n_classes, activation='softmax')(x)\n",
    "    \n",
    "    model= Model(input, output)\n",
    "    return model"
   ]
  },
  {
   "cell_type": "code",
   "execution_count": 35,
   "id": "7c13a886",
   "metadata": {},
   "outputs": [
    {
     "name": "stdout",
     "output_type": "stream",
     "text": [
      "Model: \"model_1\"\n",
      "_________________________________________________________________\n",
      " Layer (type)                Output Shape              Param #   \n",
      "=================================================================\n",
      " input_3 (InputLayer)        [(None, 221, 221, 3)]     0         \n",
      "                                                                 \n",
      " conv2d_26 (Conv2D)          (None, 221, 221, 64)      1792      \n",
      "                                                                 \n",
      " conv2d_27 (Conv2D)          (None, 221, 221, 64)      36928     \n",
      "                                                                 \n",
      " max_pooling2d_10 (MaxPoolin  (None, 111, 111, 64)     0         \n",
      " g2D)                                                            \n",
      "                                                                 \n",
      " conv2d_28 (Conv2D)          (None, 111, 111, 128)     73856     \n",
      "                                                                 \n",
      " conv2d_29 (Conv2D)          (None, 111, 111, 128)     147584    \n",
      "                                                                 \n",
      " max_pooling2d_11 (MaxPoolin  (None, 56, 56, 128)      0         \n",
      " g2D)                                                            \n",
      "                                                                 \n",
      " conv2d_30 (Conv2D)          (None, 56, 56, 256)       295168    \n",
      "                                                                 \n",
      " conv2d_31 (Conv2D)          (None, 56, 56, 256)       590080    \n",
      "                                                                 \n",
      " conv2d_32 (Conv2D)          (None, 56, 56, 256)       590080    \n",
      "                                                                 \n",
      " max_pooling2d_12 (MaxPoolin  (None, 28, 28, 256)      0         \n",
      " g2D)                                                            \n",
      "                                                                 \n",
      " conv2d_33 (Conv2D)          (None, 28, 28, 512)       1180160   \n",
      "                                                                 \n",
      " conv2d_34 (Conv2D)          (None, 28, 28, 512)       2359808   \n",
      "                                                                 \n",
      " conv2d_35 (Conv2D)          (None, 28, 28, 512)       2359808   \n",
      "                                                                 \n",
      " max_pooling2d_13 (MaxPoolin  (None, 14, 14, 512)      0         \n",
      " g2D)                                                            \n",
      "                                                                 \n",
      " conv2d_36 (Conv2D)          (None, 14, 14, 512)       2359808   \n",
      "                                                                 \n",
      " conv2d_37 (Conv2D)          (None, 14, 14, 512)       2359808   \n",
      "                                                                 \n",
      " conv2d_38 (Conv2D)          (None, 14, 14, 512)       2359808   \n",
      "                                                                 \n",
      " max_pooling2d_14 (MaxPoolin  (None, 7, 7, 512)        0         \n",
      " g2D)                                                            \n",
      "                                                                 \n",
      " flatten_2 (Flatten)         (None, 25088)             0         \n",
      "                                                                 \n",
      " dense_3 (Dense)             (None, 4096)              102764544 \n",
      "                                                                 \n",
      " dense_4 (Dense)             (None, 4096)              16781312  \n",
      "                                                                 \n",
      " dense_5 (Dense)             (None, 1000)              4097000   \n",
      "                                                                 \n",
      "=================================================================\n",
      "Total params: 138,357,544\n",
      "Trainable params: 138,357,544\n",
      "Non-trainable params: 0\n",
      "_________________________________________________________________\n"
     ]
    }
   ],
   "source": [
    "input_shape=221,221,3\n",
    "n_classes=1000\n",
    "\n",
    "model=vgg(input_shape,n_classes)\n",
    "model.summary()"
   ]
  },
  {
   "cell_type": "code",
   "execution_count": null,
   "id": "48dff00d",
   "metadata": {},
   "outputs": [],
   "source": []
  }
 ],
 "metadata": {
  "kernelspec": {
   "display_name": "Python 3 (ipykernel)",
   "language": "python",
   "name": "python3"
  },
  "language_info": {
   "codemirror_mode": {
    "name": "ipython",
    "version": 3
   },
   "file_extension": ".py",
   "mimetype": "text/x-python",
   "name": "python",
   "nbconvert_exporter": "python",
   "pygments_lexer": "ipython3",
   "version": "3.10.5"
  }
 },
 "nbformat": 4,
 "nbformat_minor": 5
}
